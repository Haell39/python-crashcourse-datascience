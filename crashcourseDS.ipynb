{
 "cells": [
  {
   "cell_type": "markdown",
   "id": "cd8a2f50",
   "metadata": {},
   "source": [
    "# Numpy Crash Course"
   ]
  },
  {
   "cell_type": "code",
   "execution_count": null,
   "id": "fbddc24f",
   "metadata": {},
   "outputs": [],
   "source": [
    "'''\n",
    "OBS:\n",
    "# Clears all variable values previously set\n",
    "# from IPython import get_ipython\n",
    "# get_ipython().magic('reset -sf')\n",
    "'''"
   ]
  },
  {
   "cell_type": "code",
   "execution_count": null,
   "id": "3f8315c2",
   "metadata": {},
   "outputs": [],
   "source": [
    "'''import libraries'''\n",
    "# Provides ways to work with large multidimensional arrays\n",
    "import numpy as np \n",
    "# Allows for further data manipulation and analysis\n",
    "import pandas as pd\n",
    "\n",
    "# In Anaconda -> Environments -> Not Installed -> pandas-datareader -> Apply\n",
    "from pandas_datareader import data as web # Reads stock data \n",
    "import matplotlib.pyplot as plt # Plotting\n",
    "import matplotlib.dates as mdates # Styling dates\n",
    "%matplotlib inline\n",
    "\n",
    "#Ploty\n",
    "import cufflinks as cf\n",
    "import plotly.express as px\n",
    "import plotly.graph_objects as go\n",
    "\n",
    "# Ignore warnings\n",
    "import warnings\n",
    "warnings.simplefilter(\"ignore\")"
   ]
  },
  {
   "cell_type": "code",
   "execution_count": 3,
   "id": "80141965",
   "metadata": {},
   "outputs": [
    {
     "data": {
      "text/plain": [
       "array([1, 2, 3, 4, 5])"
      ]
     },
     "execution_count": 3,
     "metadata": {},
     "output_type": "execute_result"
    }
   ],
   "source": [
    "# numpy array\n",
    "list1 = [1, 2, 3, 4, 5]\n",
    "npal = np.array(list1)\n",
    "npal\n"
   ]
  },
  {
   "cell_type": "code",
   "execution_count": 10,
   "id": "836db4af",
   "metadata": {},
   "outputs": [
    {
     "name": "stdout",
     "output_type": "stream",
     "text": [
      "[0 1 2 3 4 5 6 7]\n",
      "[0 1 2 3 4 5 6 7]\n"
     ]
    }
   ],
   "source": [
    "# array from 0 to 7\n",
    "npa2 = np.arange(0,8)\n",
    "npa2\n",
    "\n",
    "npa3 = np.arange(8)\n",
    "print(npa2)\n",
    "print(npa3)"
   ]
  },
  {
   "cell_type": "code",
   "execution_count": 11,
   "id": "87485073",
   "metadata": {},
   "outputs": [
    {
     "data": {
      "text/plain": [
       "array([0, 2, 4, 6])"
      ]
     },
     "execution_count": 11,
     "metadata": {},
     "output_type": "execute_result"
    }
   ],
   "source": [
    "# defining a step\n",
    "npa4 = np.arange(0,8,2)\n",
    "npa4"
   ]
  },
  {
   "cell_type": "markdown",
   "id": "8ccc97b5",
   "metadata": {},
   "source": [
    "### Matrices"
   ]
  },
  {
   "cell_type": "code",
   "execution_count": 12,
   "id": "c7d0a7e2",
   "metadata": {},
   "outputs": [
    {
     "data": {
      "text/plain": [
       "array([[1., 1., 1.],\n",
       "       [1., 1., 1.],\n",
       "       [1., 1., 1.],\n",
       "       [1., 1., 1.]])"
      ]
     },
     "execution_count": 12,
     "metadata": {},
     "output_type": "execute_result"
    }
   ],
   "source": [
    "# Create a 4 row matrix with 3 columns with all having a value of 1\n",
    "\n",
    "mat1 = np.ones((4,3))\n",
    "mat1"
   ]
  },
  {
   "cell_type": "code",
   "execution_count": 13,
   "id": "0cbb2fb1",
   "metadata": {},
   "outputs": [
    {
     "data": {
      "text/plain": [
       "array([[0., 0., 0.],\n",
       "       [0., 0., 0.],\n",
       "       [0., 0., 0.],\n",
       "       [0., 0., 0.]])"
      ]
     },
     "execution_count": 13,
     "metadata": {},
     "output_type": "execute_result"
    }
   ],
   "source": [
    "# Now 4 rows 3 col matrix with all having a value of 0\n",
    "\n",
    "mat0 = np.zeros((4,3))\n",
    "mat0"
   ]
  },
  {
   "cell_type": "markdown",
   "id": "822bfd7f",
   "metadata": {},
   "source": [
    "### Random matrices"
   ]
  },
  {
   "cell_type": "code",
   "execution_count": 14,
   "id": "8bed4243",
   "metadata": {},
   "outputs": [
    {
     "data": {
      "text/plain": [
       "array([[45, 28, 40],\n",
       "       [21, 19, 18],\n",
       "       [47, 48,  4],\n",
       "       [26, 33, 21]], dtype=int32)"
      ]
     },
     "execution_count": 14,
     "metadata": {},
     "output_type": "execute_result"
    }
   ],
   "source": [
    "# random values between 0 and 50 in a 4x3 matrix\n",
    "\n",
    "matran = np.random.randint(0,50,(4,3))\n",
    "matran"
   ]
  },
  {
   "cell_type": "markdown",
   "id": "d8a52019",
   "metadata": {},
   "source": [
    "### Generate Defined Number of Values in Range"
   ]
  },
  {
   "cell_type": "code",
   "execution_count": 18,
   "id": "2757a025",
   "metadata": {},
   "outputs": [
    {
     "data": {
      "text/plain": [
       "array([ 0.        ,  1.11111111,  2.22222222,  3.33333333,  4.44444444,\n",
       "        5.55555556,  6.66666667,  7.77777778,  8.88888889, 10.        ])"
      ]
     },
     "execution_count": 18,
     "metadata": {},
     "output_type": "execute_result"
    }
   ],
   "source": [
    "# Generate 10 equally distanced values between 1 and 10\n",
    "mat4 = np.linspace(0,10,10)\n",
    "mat4"
   ]
  },
  {
   "cell_type": "markdown",
   "id": "fc512bed",
   "metadata": {},
   "source": [
    "### Reshaped Arrays"
   ]
  },
  {
   "cell_type": "code",
   "execution_count": null,
   "id": "177bb959",
   "metadata": {},
   "outputs": [],
   "source": []
  }
 ],
 "metadata": {
  "kernelspec": {
   "display_name": "CCDS.venv",
   "language": "python",
   "name": "python3"
  },
  "language_info": {
   "codemirror_mode": {
    "name": "ipython",
    "version": 3
   },
   "file_extension": ".py",
   "mimetype": "text/x-python",
   "name": "python",
   "nbconvert_exporter": "python",
   "pygments_lexer": "ipython3",
   "version": "3.11.0"
  }
 },
 "nbformat": 4,
 "nbformat_minor": 5
}
