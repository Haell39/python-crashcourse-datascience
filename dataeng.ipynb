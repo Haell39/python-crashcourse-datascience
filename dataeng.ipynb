{
 "cells": [
  {
   "cell_type": "markdown",
   "id": "3b503d49",
   "metadata": {},
   "source": [
    "## Fundamentos da Linguagem (revisão rápida)"
   ]
  },
  {
   "cell_type": "code",
   "execution_count": 18,
   "id": "29c764d3",
   "metadata": {},
   "outputs": [],
   "source": [
    "#imports\n",
    "\n"
   ]
  },
  {
   "cell_type": "code",
   "execution_count": 19,
   "id": "f3bb3ecb",
   "metadata": {},
   "outputs": [
    {
     "data": {
      "text/plain": [
       "30.0"
      ]
     },
     "execution_count": 19,
     "metadata": {},
     "output_type": "execute_result"
    }
   ],
   "source": [
    "# Exemplo: calcular média de valores\n",
    "\n",
    "vals = [10, 20, 30, 40, 50]\n",
    "media = sum(vals) / len(vals)\n",
    "media"
   ]
  },
  {
   "cell_type": "markdown",
   "id": "c1828277",
   "metadata": {},
   "source": [
    "## Manipulação de Dados com pandas"
   ]
  },
  {
   "cell_type": "code",
   "execution_count": 20,
   "id": "3b098b14",
   "metadata": {},
   "outputs": [],
   "source": [
    "import pandas as pd\n",
    "\n",
    "df = pd.DataFrame({\n",
    "    'nome': ['Ana', 'Bruno', 'Carlos', 'Diana'],\n",
    "    'idade': [23, 35, 45, 29],\n",
    "    'salario': [50000, 60000, 80000, 70000]\n",
    "})"
   ]
  },
  {
   "cell_type": "code",
   "execution_count": 21,
   "id": "8b29fc15",
   "metadata": {},
   "outputs": [
    {
     "data": {
      "text/html": [
       "<div>\n",
       "<style scoped>\n",
       "    .dataframe tbody tr th:only-of-type {\n",
       "        vertical-align: middle;\n",
       "    }\n",
       "\n",
       "    .dataframe tbody tr th {\n",
       "        vertical-align: top;\n",
       "    }\n",
       "\n",
       "    .dataframe thead th {\n",
       "        text-align: right;\n",
       "    }\n",
       "</style>\n",
       "<table border=\"1\" class=\"dataframe\">\n",
       "  <thead>\n",
       "    <tr style=\"text-align: right;\">\n",
       "      <th></th>\n",
       "      <th>idade</th>\n",
       "      <th>salario</th>\n",
       "    </tr>\n",
       "  </thead>\n",
       "  <tbody>\n",
       "    <tr>\n",
       "      <th>count</th>\n",
       "      <td>4.000000</td>\n",
       "      <td>4.000000</td>\n",
       "    </tr>\n",
       "    <tr>\n",
       "      <th>mean</th>\n",
       "      <td>33.000000</td>\n",
       "      <td>65000.000000</td>\n",
       "    </tr>\n",
       "    <tr>\n",
       "      <th>std</th>\n",
       "      <td>9.380832</td>\n",
       "      <td>12909.944487</td>\n",
       "    </tr>\n",
       "    <tr>\n",
       "      <th>min</th>\n",
       "      <td>23.000000</td>\n",
       "      <td>50000.000000</td>\n",
       "    </tr>\n",
       "    <tr>\n",
       "      <th>25%</th>\n",
       "      <td>27.500000</td>\n",
       "      <td>57500.000000</td>\n",
       "    </tr>\n",
       "    <tr>\n",
       "      <th>50%</th>\n",
       "      <td>32.000000</td>\n",
       "      <td>65000.000000</td>\n",
       "    </tr>\n",
       "    <tr>\n",
       "      <th>75%</th>\n",
       "      <td>37.500000</td>\n",
       "      <td>72500.000000</td>\n",
       "    </tr>\n",
       "    <tr>\n",
       "      <th>max</th>\n",
       "      <td>45.000000</td>\n",
       "      <td>80000.000000</td>\n",
       "    </tr>\n",
       "  </tbody>\n",
       "</table>\n",
       "</div>"
      ],
      "text/plain": [
       "           idade       salario\n",
       "count   4.000000      4.000000\n",
       "mean   33.000000  65000.000000\n",
       "std     9.380832  12909.944487\n",
       "min    23.000000  50000.000000\n",
       "25%    27.500000  57500.000000\n",
       "50%    32.000000  65000.000000\n",
       "75%    37.500000  72500.000000\n",
       "max    45.000000  80000.000000"
      ]
     },
     "execution_count": 21,
     "metadata": {},
     "output_type": "execute_result"
    }
   ],
   "source": [
    "df.describe()"
   ]
  },
  {
   "cell_type": "code",
   "execution_count": 22,
   "id": "d5367a6e",
   "metadata": {},
   "outputs": [
    {
     "data": {
      "text/html": [
       "<div>\n",
       "<style scoped>\n",
       "    .dataframe tbody tr th:only-of-type {\n",
       "        vertical-align: middle;\n",
       "    }\n",
       "\n",
       "    .dataframe tbody tr th {\n",
       "        vertical-align: top;\n",
       "    }\n",
       "\n",
       "    .dataframe thead th {\n",
       "        text-align: right;\n",
       "    }\n",
       "</style>\n",
       "<table border=\"1\" class=\"dataframe\">\n",
       "  <thead>\n",
       "    <tr style=\"text-align: right;\">\n",
       "      <th></th>\n",
       "      <th>nome</th>\n",
       "      <th>idade</th>\n",
       "      <th>salario</th>\n",
       "    </tr>\n",
       "  </thead>\n",
       "  <tbody>\n",
       "    <tr>\n",
       "      <th>0</th>\n",
       "      <td>Ana</td>\n",
       "      <td>23</td>\n",
       "      <td>50000</td>\n",
       "    </tr>\n",
       "    <tr>\n",
       "      <th>1</th>\n",
       "      <td>Bruno</td>\n",
       "      <td>35</td>\n",
       "      <td>60000</td>\n",
       "    </tr>\n",
       "    <tr>\n",
       "      <th>2</th>\n",
       "      <td>Carlos</td>\n",
       "      <td>45</td>\n",
       "      <td>80000</td>\n",
       "    </tr>\n",
       "    <tr>\n",
       "      <th>3</th>\n",
       "      <td>Diana</td>\n",
       "      <td>29</td>\n",
       "      <td>70000</td>\n",
       "    </tr>\n",
       "  </tbody>\n",
       "</table>\n",
       "</div>"
      ],
      "text/plain": [
       "     nome  idade  salario\n",
       "0     Ana     23    50000\n",
       "1   Bruno     35    60000\n",
       "2  Carlos     45    80000\n",
       "3   Diana     29    70000"
      ]
     },
     "execution_count": 22,
     "metadata": {},
     "output_type": "execute_result"
    }
   ],
   "source": [
    "df.head()"
   ]
  },
  {
   "cell_type": "code",
   "execution_count": 23,
   "id": "e87acb19",
   "metadata": {},
   "outputs": [
    {
     "name": "stdout",
     "output_type": "stream",
     "text": [
      "<class 'pandas.core.frame.DataFrame'>\n",
      "RangeIndex: 4 entries, 0 to 3\n",
      "Data columns (total 3 columns):\n",
      " #   Column   Non-Null Count  Dtype \n",
      "---  ------   --------------  ----- \n",
      " 0   nome     4 non-null      object\n",
      " 1   idade    4 non-null      int64 \n",
      " 2   salario  4 non-null      int64 \n",
      "dtypes: int64(2), object(1)\n",
      "memory usage: 224.0+ bytes\n"
     ]
    }
   ],
   "source": [
    "df.info()"
   ]
  },
  {
   "cell_type": "code",
   "execution_count": 24,
   "id": "f9dac2c5",
   "metadata": {},
   "outputs": [
    {
     "name": "stdout",
     "output_type": "stream",
     "text": [
      "nome\n",
      "Ana       1\n",
      "Bruno     1\n",
      "Carlos    1\n",
      "Diana     1\n",
      "Name: count, dtype: int64\n"
     ]
    }
   ],
   "source": [
    "print(df['nome'].value_counts())"
   ]
  },
  {
   "cell_type": "markdown",
   "id": "ae32d420",
   "metadata": {},
   "source": [
    "## Numpy (operações matemáticas mais rápidas)"
   ]
  },
  {
   "cell_type": "code",
   "execution_count": 25,
   "id": "2908dd11",
   "metadata": {},
   "outputs": [
    {
     "name": "stdout",
     "output_type": "stream",
     "text": [
      "Média: 3.0\n",
      "Mediana: 3.0\n",
      "Desvio Padrão: 1.4142135623730951\n"
     ]
    }
   ],
   "source": [
    "import numpy as np\n",
    "\n",
    "arr = np.array([1, 2, 3, 4, 5])\n",
    "print(f'Média: {np.mean(arr)}')\n",
    "print(f'Mediana: {np.median(arr)}')\n",
    "print(f'Desvio Padrão: {np.std(arr)}')"
   ]
  },
  {
   "cell_type": "markdown",
   "id": "74cd7387",
   "metadata": {},
   "source": [
    "## Leitura e Escrita de Arquivos"
   ]
  },
  {
   "cell_type": "code",
   "execution_count": 26,
   "id": "c021bbe7",
   "metadata": {},
   "outputs": [],
   "source": [
    "\"\"\"\n",
    "CSV, JSON, Excel\n",
    "Banco de Dados com SQLAlchemy ou psycopg2\n",
    "\"\"\"\n",
    "\n",
    "df.to_csv('data\\\\testeCSV.csv', index=False)\n",
    "\n",
    "#Json\n",
    "df.to_json(r'data\\testJSON', orient='records', lines=True)"
   ]
  },
  {
   "cell_type": "markdown",
   "id": "b0247ba8",
   "metadata": {},
   "source": [
    "# Automação e ETL\n",
    "\n"
   ]
  },
  {
   "cell_type": "code",
   "execution_count": 29,
   "id": "1fa28da2",
   "metadata": {},
   "outputs": [
    {
     "data": {
      "text/plain": [
       "\"\\nimport os\\nimport pandas as pd\\n\\nfiles = [f for f in os.listdir('data') if f.endswith('.csv')]\\ndados = [pd.read_csv(f) for f in files]\\n\\ndf_final = pd.concat(dados, ignore_index=True)\\ndf_final.to_csv('data\\\\consolidated.csv', index=False)\\n\""
      ]
     },
     "execution_count": 29,
     "metadata": {},
     "output_type": "execute_result"
    }
   ],
   "source": [
    "'''\n",
    "import os\n",
    "import pandas as pd\n",
    "\n",
    "files = [f for f in os.listdir('data') if f.endswith('.csv')]\n",
    "dados = [pd.read_csv(f) for f in files]\n",
    "\n",
    "df_final = pd.concat(dados, ignore_index=True)\n",
    "df_final.to_csv('data\\\\consolidated.csv', index=False)\n",
    "'''"
   ]
  },
  {
   "cell_type": "markdown",
   "id": "e95b0de4",
   "metadata": {},
   "source": [
    "# Visualização Rápida (para validar dados)"
   ]
  },
  {
   "cell_type": "code",
   "execution_count": 32,
   "id": "639b8dd9",
   "metadata": {},
   "outputs": [
    {
     "data": {
      "image/png": "[encoded data removed]",
      "text/plain": [
       "<Figure size 640x480 with 1 Axes>"
      ]
     },
     "metadata": {},
     "output_type": "display_data"
    }
   ],
   "source": [
    "import matplotlib.pyplot as plt\n",
    "import seaborn as sns\n",
    "\n",
    "sns.histplot(df['salario'], bins=5, kde=True)\n",
    "plt.show()"
   ]
  },
  {
   "cell_type": "code",
   "execution_count": null,
   "id": "e4364fba",
   "metadata": {},
   "outputs": [],
   "source": []
  }
 ],
 "metadata": {
  "kernelspec": {
   "display_name": "CCDS.venv",
   "language": "python",
   "name": "python3"
  },
  "language_info": {
   "codemirror_mode": {
    "name": "ipython",
    "version": 3
   },
   "file_extension": ".py",
   "mimetype": "text/x-python",
   "name": "python",
   "nbconvert_exporter": "python",
   "pygments_lexer": "ipython3",
   "version": "3.11.0"
  }
 },
 "nbformat": 4,
 "nbformat_minor": 5
}
